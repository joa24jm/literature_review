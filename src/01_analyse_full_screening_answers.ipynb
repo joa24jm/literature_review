{
 "cells": [
  {
   "cell_type": "markdown",
   "id": "d047b049",
   "metadata": {},
   "source": [
    "# Analyse full screening answers\n",
    "\n",
    "This notebook has the purpose to\n",
    "- clean and prepare the data coming from the MS forms sheet\n",
    "- visualize and aggregate the research questions\n",
    "- further analyse the dataset"
   ]
  },
  {
   "cell_type": "code",
   "execution_count": 1,
   "id": "64d10132",
   "metadata": {},
   "outputs": [],
   "source": [
    "# imports\n",
    "import pandas as pd\n",
    "import seaborn as sns\n",
    "import matplotlib.pyplot as plt"
   ]
  },
  {
   "cell_type": "code",
   "execution_count": 2,
   "id": "52b829f8",
   "metadata": {},
   "outputs": [],
   "source": [
    "# # for printing issues\n",
    "# pd.set_option('display.max_columns', None)  # or 1000\n",
    "# pd.set_option('display.max_rows', None)  # or 1000\n",
    "# pd.set_option('display.max_colwidth', None)  # or 199"
   ]
  },
  {
   "cell_type": "code",
   "execution_count": 3,
   "id": "f97c735c",
   "metadata": {},
   "outputs": [
    {
     "name": "stdout",
     "output_type": "stream",
     "text": [
      "df shape is  (610, 12)\n"
     ]
    }
   ],
   "source": [
    "# read in dataframe\n",
    "df = pd.read_excel('..\\data\\Full Screening Questions (1-621)_reviewed.xlsx')\n",
    "\n",
    "# strip strings in object columns\n",
    "df_obj = df.select_dtypes(['object'])\n",
    "df[df_obj.columns] = df_obj.apply(lambda x: x.str.strip())\n",
    "\n",
    "# check for multiple answers on the same paper\n",
    "df = df.drop_duplicates(subset=['Number - Author Year'], keep='first')\n",
    "\n",
    "print('df shape is ',df.shape)"
   ]
  },
  {
   "cell_type": "markdown",
   "id": "25368622",
   "metadata": {},
   "source": [
    "## Clean and Prepare"
   ]
  },
  {
   "cell_type": "code",
   "execution_count": 4,
   "id": "d79bc8b1",
   "metadata": {},
   "outputs": [],
   "source": [
    "# remove \\n from strings\n",
    "df.replace(to_replace=[r\"\\\\t|\\\\n|\\\\r\", \"\\t|\\n|\\r\"], value=[\"\",\"\"], regex=True, inplace=True)"
   ]
  },
  {
   "cell_type": "markdown",
   "id": "69869069",
   "metadata": {},
   "source": [
    "## How many papers have to be excluded for which reason?"
   ]
  },
  {
   "cell_type": "code",
   "execution_count": 5,
   "id": "2fec13c1",
   "metadata": {},
   "outputs": [
    {
     "data": {
      "text/plain": [
       "87"
      ]
     },
     "execution_count": 5,
     "metadata": {},
     "output_type": "execute_result"
    }
   ],
   "source": [
    "df[df['Concrete medical supervised Machine Learning usecase?']=='No -> Exclude from review and submit form'].shape[0]"
   ]
  },
  {
   "cell_type": "code",
   "execution_count": 6,
   "id": "442b782e",
   "metadata": {
    "scrolled": true
   },
   "outputs": [
    {
     "data": {
      "text/plain": [
       "64"
      ]
     },
     "execution_count": 6,
     "metadata": {},
     "output_type": "execute_result"
    }
   ],
   "source": [
    "df[df['Which XAI method is used?']=='None -> Exclude from review and submit form;'].shape[0]"
   ]
  },
  {
   "cell_type": "code",
   "execution_count": 7,
   "id": "ea611af2",
   "metadata": {},
   "outputs": [
    {
     "data": {
      "text/plain": [
       "13"
      ]
     },
     "execution_count": 7,
     "metadata": {},
     "output_type": "execute_result"
    }
   ],
   "source": [
    "df[df['Tabular or Image data as input?']=='Text-> Exclude from review and submit form'].shape[0]"
   ]
  },
  {
   "cell_type": "code",
   "execution_count": 8,
   "id": "6bc52e49",
   "metadata": {},
   "outputs": [
    {
     "data": {
      "text/plain": [
       "0"
      ]
     },
     "execution_count": 8,
     "metadata": {},
     "output_type": "execute_result"
    }
   ],
   "source": [
    "df[df['Tabular or Image data as input?']=='Audio-> Exclude from review and submit form'].shape[0]"
   ]
  },
  {
   "cell_type": "code",
   "execution_count": 9,
   "id": "5bd0e906",
   "metadata": {},
   "outputs": [],
   "source": [
    "# drop papers that have been excluded due to at least one of the following reasons\n",
    "# - No concrete supervised medical machine learning use case\n",
    "df = df[df['Concrete medical supervised Machine Learning usecase?']!='No -> Exclude from review and submit form']\n",
    "# - No XAI method provided\n",
    "df = df[df['Which XAI method is used?']!='None -> Exclude from review and submit form;']\n",
    "# - No image or tabular data as input\n",
    "df = df[df['Tabular or Image data as input?']!='Text-> Exclude from review and submit form']\n",
    "df = df[df['Tabular or Image data as input?']!='Audio-> Exclude from review and submit form']"
   ]
  },
  {
   "cell_type": "code",
   "execution_count": 10,
   "id": "3728217b",
   "metadata": {},
   "outputs": [
    {
     "data": {
      "text/plain": [
       "[]"
      ]
     },
     "execution_count": 10,
     "metadata": {},
     "output_type": "execute_result"
    }
   ],
   "source": [
    "# check for missing values\n",
    "authors_list = []\n",
    "for row in df.index:\n",
    "    df_row = df.loc[row, :]\n",
    "    \n",
    "    if pd.isnull(df_row).any():\n",
    "        authors_list.append(df.loc[row, 'Number - Author Year'])\n",
    "\n",
    "authors_list = list(set(authors_list))\n",
    "sorted(authors_list)"
   ]
  },
  {
   "cell_type": "code",
   "execution_count": 11,
   "id": "7548adc0",
   "metadata": {},
   "outputs": [
    {
     "name": "stdout",
     "output_type": "stream",
     "text": [
      "After dropping excluded papers, df shape is  (450, 12)\n"
     ]
    }
   ],
   "source": [
    "print('After dropping excluded papers, df shape is ',df.shape)"
   ]
  },
  {
   "cell_type": "markdown",
   "id": "4f724502",
   "metadata": {},
   "source": [
    "No missing values left - continue with granularisation of columns - \"unroll\" columns."
   ]
  },
  {
   "cell_type": "code",
   "execution_count": 12,
   "id": "c5f54622",
   "metadata": {},
   "outputs": [
    {
     "name": "stdout",
     "output_type": "stream",
     "text": [
      "Top 20 most used XAI methods\n"
     ]
    },
    {
     "data": {
      "text/plain": [
       "SHAP                                                     119\n",
       "Intrinsic interpretable                                   94\n",
       "Class Activation Mapping or related (i. e., Grad-CAM)     92\n",
       "Random Forest Feature Importance                          46\n",
       "LIME                                                      40\n",
       "Partial Dependence Plots                                  14\n",
       "Layer-Wise Relevance Propagation                           9\n",
       "Permutation Importance                                     5\n",
       "Saliency Maps                                              3\n",
       "DeepLift                                                   3\n",
       "Attention Mechanism                                        3\n",
       "GSInquire                                                  2\n",
       "attention mechanism                                        2\n",
       "Post-Hoc Decision Tree                                     2\n",
       "Attention weights                                          2\n",
       "Saliency Map                                               2\n",
       "Testing Concept Activation Vectors                         1\n",
       "Rule Extraction                                            1\n",
       "Attention score map                                        1\n",
       "Comment: Decision Tree used but not shown.                 1\n",
       "dtype: int64"
      ]
     },
     "execution_count": 12,
     "metadata": {},
     "output_type": "execute_result"
    }
   ],
   "source": [
    "\"\"\"\n",
    "# divide column 'Which XAI method is used?' into multiple columns:\n",
    "df[['XAI_method_1', 'XAI_method_2', 'XAI_method_3', 'XAI_method_4', 'XAI_method_5']] = df['Which XAI method is used?'].str.split(\";\", expand = True)\n",
    "\n",
    "# Problem: if \"own method\" is selected, now the description of this method might be in the next column\n",
    "#'XAI_method_5' could be deleted again, because contains no information - only None values\n",
    "\"\"\"\n",
    "\n",
    "def used_methods_value_count(df):\n",
    "    \"\"\"Performs a value count on which method is used? Excludes own developed methods\"\"\"\n",
    "    \n",
    "    # drop all rows with substring \"Own method developed\"\n",
    "    df = df[~df['Which XAI method is used?'].str.contains('Own method developed')]\n",
    "\n",
    "    # Perform value counts on remaining methods\n",
    "    ser = df['Which XAI method is used?'].str.split(\";\", expand=True).stack(dropna=True).value_counts()\n",
    "    \n",
    "    # drop the first line as this is a value counts of None\n",
    "    ser = ser.drop(labels=[''])\n",
    "    \n",
    "    # alter index for better readability\n",
    "    ser.rename(index={'Model is intrinsic interpretable (i.e., decision tree or linear regression)':'Intrinsic interpretable'},\n",
    "              inplace=True)\n",
    "    \n",
    "    return ser\n",
    "\n",
    "ser = used_methods_value_count(df)\n",
    "\n",
    "print('Top 20 most used XAI methods')\n",
    "ser[:20]"
   ]
  },
  {
   "cell_type": "code",
   "execution_count": 13,
   "id": "48e3dbdb",
   "metadata": {},
   "outputs": [
    {
     "data": {
      "text/plain": [
       "490"
      ]
     },
     "execution_count": 13,
     "metadata": {},
     "output_type": "execute_result"
    }
   ],
   "source": [
    "# How many methods in total that are not self-developed?\n",
    "ser.sum()"
   ]
  },
  {
   "cell_type": "code",
   "execution_count": 14,
   "id": "562dc800",
   "metadata": {},
   "outputs": [
    {
     "data": {
      "text/plain": [
       "45"
      ]
     },
     "execution_count": 14,
     "metadata": {},
     "output_type": "execute_result"
    }
   ],
   "source": [
    "# How many self developed methods?\n",
    "ser['Own method developed'] = df['Which XAI method is used?'].str.contains('Own method developed').sum()\n",
    "ser = ser.sort_values(ascending=False)\n",
    "ser['Own method developed']"
   ]
  },
  {
   "cell_type": "code",
   "execution_count": 15,
   "id": "f0a31dd3",
   "metadata": {},
   "outputs": [
    {
     "data": {
      "text/plain": [
       "1.1888888888888889"
      ]
     },
     "execution_count": 15,
     "metadata": {},
     "output_type": "execute_result"
    }
   ],
   "source": [
    "# How many explanations methods per paper on average?\n",
    "ser.sum()/df.shape[0]"
   ]
  },
  {
   "cell_type": "markdown",
   "id": "6dce9f6a",
   "metadata": {},
   "source": [
    "## Which XAI methods have been used the most?"
   ]
  },
  {
   "cell_type": "code",
   "execution_count": 16,
   "id": "58799cb5",
   "metadata": {},
   "outputs": [
    {
     "data": {
      "text/html": [
       "<div>\n",
       "<style scoped>\n",
       "    .dataframe tbody tr th:only-of-type {\n",
       "        vertical-align: middle;\n",
       "    }\n",
       "\n",
       "    .dataframe tbody tr th {\n",
       "        vertical-align: top;\n",
       "    }\n",
       "\n",
       "    .dataframe thead th {\n",
       "        text-align: right;\n",
       "    }\n",
       "</style>\n",
       "<table border=\"1\" class=\"dataframe\">\n",
       "  <thead>\n",
       "    <tr style=\"text-align: right;\">\n",
       "      <th></th>\n",
       "      <th>tabular</th>\n",
       "      <th>image</th>\n",
       "    </tr>\n",
       "  </thead>\n",
       "  <tbody>\n",
       "    <tr>\n",
       "      <th>SHAP</th>\n",
       "      <td>108.0</td>\n",
       "      <td>11.0</td>\n",
       "    </tr>\n",
       "    <tr>\n",
       "      <th>Intrinsic interpretable</th>\n",
       "      <td>90.0</td>\n",
       "      <td>4.0</td>\n",
       "    </tr>\n",
       "    <tr>\n",
       "      <th>Random Forest Feature Importance</th>\n",
       "      <td>41.0</td>\n",
       "      <td>5.0</td>\n",
       "    </tr>\n",
       "    <tr>\n",
       "      <th>LIME</th>\n",
       "      <td>27.0</td>\n",
       "      <td>13.0</td>\n",
       "    </tr>\n",
       "    <tr>\n",
       "      <th>Partial Dependence Plots</th>\n",
       "      <td>14.0</td>\n",
       "      <td>0.0</td>\n",
       "    </tr>\n",
       "    <tr>\n",
       "      <th>Class Activation Mapping or related (i. e., Grad-CAM)</th>\n",
       "      <td>8.0</td>\n",
       "      <td>84.0</td>\n",
       "    </tr>\n",
       "    <tr>\n",
       "      <th>Permutation Importance</th>\n",
       "      <td>5.0</td>\n",
       "      <td>0.0</td>\n",
       "    </tr>\n",
       "    <tr>\n",
       "      <th>Layer-Wise Relevance Propagation</th>\n",
       "      <td>3.0</td>\n",
       "      <td>6.0</td>\n",
       "    </tr>\n",
       "    <tr>\n",
       "      <th>Saliency Maps</th>\n",
       "      <td>0.0</td>\n",
       "      <td>3.0</td>\n",
       "    </tr>\n",
       "  </tbody>\n",
       "</table>\n",
       "</div>"
      ],
      "text/plain": [
       "                                                    tabular  image\n",
       "SHAP                                                  108.0   11.0\n",
       "Intrinsic interpretable                                90.0    4.0\n",
       "Random Forest Feature Importance                       41.0    5.0\n",
       "LIME                                                   27.0   13.0\n",
       "Partial Dependence Plots                               14.0    0.0\n",
       "Class Activation Mapping or related (i. e., Gra...      8.0   84.0\n",
       "Permutation Importance                                  5.0    0.0\n",
       "Layer-Wise Relevance Propagation                        3.0    6.0\n",
       "Saliency Maps                                           0.0    3.0"
      ]
     },
     "execution_count": 16,
     "metadata": {},
     "output_type": "execute_result"
    }
   ],
   "source": [
    "# Explanation methods by data input\n",
    "df_tab = df[df['Tabular or Image data as input?']=='Tabular (includes EEG, ECG, time-series data)']\n",
    "df_img = df[df['Tabular or Image data as input?']=='Image data (includes video data)']\n",
    "\n",
    "ser_tab = used_methods_value_count(df_tab).rename('tabular')\n",
    "ser_img = used_methods_value_count(df_img).rename('image')\n",
    "\n",
    "df_tab_img = pd.concat([ser_tab, ser_img], \n",
    "                       names=['tabular', 'image'], \n",
    "                       axis='columns')\n",
    "\n",
    "# replace NaNs\n",
    "df_tab_img=df_tab_img.fillna(0)\n",
    "\n",
    "# drop methods that have been used less than 3 times\n",
    "df_tab_img = df_tab_img[(df_tab_img.tabular>2) | (df_tab_img.image>2)]\n",
    "\n",
    "df_tab_img"
   ]
  },
  {
   "attachments": {
    "image.png": {
     "image/png": "[encoded data removed]"
    }
   },
   "cell_type": "markdown",
   "id": "25fc3c2e",
   "metadata": {},
   "source": [
    "![image.png](attachment:image.png)"
   ]
  },
  {
   "cell_type": "markdown",
   "id": "1b56ee5b",
   "metadata": {},
   "source": [
    "## Which data input type is more common?"
   ]
  },
  {
   "cell_type": "code",
   "execution_count": 17,
   "id": "004a4d85",
   "metadata": {},
   "outputs": [
    {
     "data": {
      "text/plain": [
       "Tabular (includes EEG, ECG, time-series data)    307\n",
       "Image data (includes video data)                 143\n",
       "Name: Tabular or Image data as input?, dtype: int64"
      ]
     },
     "execution_count": 17,
     "metadata": {},
     "output_type": "execute_result"
    }
   ],
   "source": [
    "df['Tabular or Image data as input?'].value_counts()"
   ]
  },
  {
   "cell_type": "code",
   "execution_count": 29,
   "id": "1a6c9121",
   "metadata": {},
   "outputs": [
    {
     "data": {
      "text/plain": [
       "Tabular (includes EEG, ECG, time-series data)    0.682222\n",
       "Image data (includes video data)                 0.317778\n",
       "Name: Tabular or Image data as input?, dtype: float64"
      ]
     },
     "execution_count": 29,
     "metadata": {},
     "output_type": "execute_result"
    }
   ],
   "source": [
    "df['Tabular or Image data as input?'].value_counts(normalize=True)"
   ]
  },
  {
   "cell_type": "markdown",
   "id": "22b330e8",
   "metadata": {},
   "source": [
    "Tabular data is still the most used format for ML applications. They're used twice as much as image applications."
   ]
  },
  {
   "cell_type": "code",
   "execution_count": 18,
   "id": "c8480775",
   "metadata": {},
   "outputs": [],
   "source": [
    "# Prepare for big result_df\n",
    "res_df=pd.DataFrame()"
   ]
  },
  {
   "cell_type": "markdown",
   "id": "f3e878bf",
   "metadata": {},
   "source": [
    "## What is the distribution of the publication years?"
   ]
  },
  {
   "cell_type": "code",
   "execution_count": 19,
   "id": "e1ae7304",
   "metadata": {},
   "outputs": [
    {
     "data": {
      "text/html": [
       "<div>\n",
       "<style scoped>\n",
       "    .dataframe tbody tr th:only-of-type {\n",
       "        vertical-align: middle;\n",
       "    }\n",
       "\n",
       "    .dataframe tbody tr th {\n",
       "        vertical-align: top;\n",
       "    }\n",
       "\n",
       "    .dataframe thead th {\n",
       "        text-align: right;\n",
       "    }\n",
       "</style>\n",
       "<table border=\"1\" class=\"dataframe\">\n",
       "  <thead>\n",
       "    <tr style=\"text-align: right;\">\n",
       "      <th></th>\n",
       "      <th>publications_count</th>\n",
       "    </tr>\n",
       "  </thead>\n",
       "  <tbody>\n",
       "    <tr>\n",
       "      <th>2008-2019</th>\n",
       "      <td>79</td>\n",
       "    </tr>\n",
       "    <tr>\n",
       "      <th>2020</th>\n",
       "      <td>108</td>\n",
       "    </tr>\n",
       "    <tr>\n",
       "      <th>2021</th>\n",
       "      <td>200</td>\n",
       "    </tr>\n",
       "    <tr>\n",
       "      <th>2022</th>\n",
       "      <td>63</td>\n",
       "    </tr>\n",
       "  </tbody>\n",
       "</table>\n",
       "</div>"
      ],
      "text/plain": [
       "           publications_count\n",
       "2008-2019                  79\n",
       "2020                      108\n",
       "2021                      200\n",
       "2022                       63"
      ]
     },
     "execution_count": 19,
     "metadata": {},
     "output_type": "execute_result"
    }
   ],
   "source": [
    "df['pub_year']=df['Number - Author Year'].str.split(' ', expand=True).loc[:, 3]\n",
    "res = df['pub_year'].value_counts().sort_index()\n",
    "res.loc['2008-2019']=res[(res.index >= '2008') & (res.index <= '2019')].sum()\n",
    "res = res.drop(['2008', '2009', '2010', '2011', '2012', '2014', '2015', '2016', '2017',\n",
    "       '2018', '2019'], axis='index')\n",
    "res = res.reindex(['2008-2019', '2020', '2021', '2022'])\n",
    "res_df['publications_count'] = res\n",
    "res_df"
   ]
  },
  {
   "cell_type": "markdown",
   "id": "d5964be6",
   "metadata": {},
   "source": [
    "Exponential growth in publications!"
   ]
  },
  {
   "cell_type": "markdown",
   "id": "2a78a070",
   "metadata": {},
   "source": [
    "## Do the ML pipeline descriptions improve over time?"
   ]
  },
  {
   "cell_type": "code",
   "execution_count": 20,
   "id": "c8498ed8",
   "metadata": {
    "scrolled": true
   },
   "outputs": [
    {
     "data": {
      "text/html": [
       "<div>\n",
       "<style scoped>\n",
       "    .dataframe tbody tr th:only-of-type {\n",
       "        vertical-align: middle;\n",
       "    }\n",
       "\n",
       "    .dataframe tbody tr th {\n",
       "        vertical-align: top;\n",
       "    }\n",
       "\n",
       "    .dataframe thead th {\n",
       "        text-align: right;\n",
       "    }\n",
       "</style>\n",
       "<table border=\"1\" class=\"dataframe\">\n",
       "  <thead>\n",
       "    <tr style=\"text-align: right;\">\n",
       "      <th></th>\n",
       "      <th>publications_count</th>\n",
       "      <th>Mean of ML pipeline evaluation</th>\n",
       "    </tr>\n",
       "  </thead>\n",
       "  <tbody>\n",
       "    <tr>\n",
       "      <th>2008-2019</th>\n",
       "      <td>79</td>\n",
       "      <td>1.869501</td>\n",
       "    </tr>\n",
       "    <tr>\n",
       "      <th>2020</th>\n",
       "      <td>108</td>\n",
       "      <td>2.148148</td>\n",
       "    </tr>\n",
       "    <tr>\n",
       "      <th>2021</th>\n",
       "      <td>200</td>\n",
       "      <td>2.155000</td>\n",
       "    </tr>\n",
       "    <tr>\n",
       "      <th>2022</th>\n",
       "      <td>63</td>\n",
       "      <td>2.301587</td>\n",
       "    </tr>\n",
       "  </tbody>\n",
       "</table>\n",
       "</div>"
      ],
      "text/plain": [
       "           publications_count  Mean of ML pipeline evaluation\n",
       "2008-2019                  79                        1.869501\n",
       "2020                      108                        2.148148\n",
       "2021                      200                        2.155000\n",
       "2022                       63                        2.301587"
      ]
     },
     "execution_count": 20,
     "metadata": {},
     "output_type": "execute_result"
    }
   ],
   "source": [
    "res = df.groupby('pub_year').mean()['How well is the Machine Learning pipeline described? (1 = Not Described, 3 = Elaborately described)']\n",
    "res.loc['2008-2019']=res[(res.index >= '2008') & (res.index <= '2019')].mean()\n",
    "res = res.drop(['2008', '2009', '2010', '2011', '2012', '2014', '2015', '2016', '2017',\n",
    "       '2018', '2019'], axis='index')\n",
    "res = res.reindex(['2008-2019', '2020', '2021', '2022'])\n",
    "res_df['Mean of ML pipeline evaluation'] = res\n",
    "res_df"
   ]
  },
  {
   "cell_type": "code",
   "execution_count": 27,
   "id": "13e78fa1",
   "metadata": {},
   "outputs": [
    {
     "name": "stdout",
     "output_type": "stream",
     "text": [
      "Mean ML pipeline  0.600156706418699\n",
      "Std  ML pipeine  2.151111111111111\n"
     ]
    }
   ],
   "source": [
    "print('Mean ML pipeline ', \n",
    "      df['How well is the Machine Learning pipeline described? (1 = Not Described, 3 = Elaborately described)'].std())\n",
    "print('Std  ML pipeine ',\n",
    "      df['How well is the Machine Learning pipeline described? (1 = Not Described, 3 = Elaborately described)'].mean())"
   ]
  },
  {
   "cell_type": "markdown",
   "id": "8f9bb238",
   "metadata": {},
   "source": [
    "## How does the `code` sharing ratio change over time?"
   ]
  },
  {
   "cell_type": "code",
   "execution_count": 21,
   "id": "ca15ddb9",
   "metadata": {},
   "outputs": [],
   "source": [
    "def grp_by_year_and_count(df, col):\n",
    "    \"\"\"\n",
    "    Groups dataframe by publication year and counts instances of a column.\n",
    "    Returns normalized and absolute values dataframe as df_abs, df_norm\n",
    "    \"\"\"\n",
    "    \n",
    "\n",
    "    res = df.groupby(['pub_year', col]).size().unstack(fill_value=0)\n",
    "    res.loc['2008-2019', :]=res[(res.index >= '2008') & (res.index <= '2019')].sum()\n",
    "    res = res.drop(['2008', '2009', '2010', '2011', '2012', '2014', '2015', '2016', '2017',\n",
    "           '2018', '2019'], axis='index')\n",
    "    res = res.reindex(['2008-2019', '2020', '2021', '2022'])\n",
    "    res_norm = res.div(res.sum(axis=1), axis=0)\n",
    "    \n",
    "    return res, res_norm"
   ]
  },
  {
   "cell_type": "code",
   "execution_count": 22,
   "id": "b86ed63e",
   "metadata": {},
   "outputs": [],
   "source": [
    "res, res_norm = grp_by_year_and_count(df, 'Source Code provided?')\n",
    "res_df = pd.concat([res_df, \n",
    "                    res.add_prefix('code_abs_')], \n",
    "                   axis=1)\n",
    "res_df = pd.concat([res_df, \n",
    "                    res_norm.add_prefix('code_norm_')], \n",
    "                   axis=1)"
   ]
  },
  {
   "cell_type": "code",
   "execution_count": 28,
   "id": "51b1286b",
   "metadata": {},
   "outputs": [
    {
     "data": {
      "text/plain": [
       "No              0.755556\n",
       "Yes             0.204444\n",
       "Upon request    0.040000\n",
       "Name: Source Code provided?, dtype: float64"
      ]
     },
     "execution_count": 28,
     "metadata": {},
     "output_type": "execute_result"
    }
   ],
   "source": [
    "df['Source Code provided?'].value_counts(normalize=True)"
   ]
  },
  {
   "cell_type": "markdown",
   "id": "0c548637",
   "metadata": {},
   "source": [
    "## How does the `data` sharing ratio change over time?"
   ]
  },
  {
   "cell_type": "code",
   "execution_count": 23,
   "id": "24fdeb62",
   "metadata": {},
   "outputs": [],
   "source": [
    "res, res_norm = grp_by_year_and_count(df, 'Data available?')\n",
    "res_df = pd.concat([res_df, \n",
    "                    res.add_prefix('data_abs_')], \n",
    "                   axis=1)\n",
    "res_df = pd.concat([res_df, \n",
    "                    res_norm.add_prefix('data_norm_')], \n",
    "                   axis=1)"
   ]
  },
  {
   "cell_type": "code",
   "execution_count": 24,
   "id": "1d6d69e9",
   "metadata": {},
   "outputs": [],
   "source": [
    "res_df.to_csv('..\\\\plots\\\\tables\\\\pub_count_ml_pipeline_code_data_sharing_eval.csv',\n",
    "             index_label='pub_year')"
   ]
  },
  {
   "attachments": {
    "image.png": {
     "image/png": "[encoded data removed]"
    }
   },
   "cell_type": "markdown",
   "id": "5298d10c",
   "metadata": {},
   "source": [
    "![image.png](attachment:image.png)"
   ]
  },
  {
   "cell_type": "markdown",
   "id": "c1aaf88f",
   "metadata": {},
   "source": [
    "## Does the input type change over time?"
   ]
  },
  {
   "cell_type": "code",
   "execution_count": 32,
   "id": "d9c08bf2",
   "metadata": {},
   "outputs": [
    {
     "data": {
      "text/html": [
       "<div>\n",
       "<style scoped>\n",
       "    .dataframe tbody tr th:only-of-type {\n",
       "        vertical-align: middle;\n",
       "    }\n",
       "\n",
       "    .dataframe tbody tr th {\n",
       "        vertical-align: top;\n",
       "    }\n",
       "\n",
       "    .dataframe thead th {\n",
       "        text-align: right;\n",
       "    }\n",
       "</style>\n",
       "<table border=\"1\" class=\"dataframe\">\n",
       "  <thead>\n",
       "    <tr style=\"text-align: right;\">\n",
       "      <th>Tabular or Image data as input?</th>\n",
       "      <th>Image data (includes video data)</th>\n",
       "      <th>Tabular (includes EEG, ECG, time-series data)</th>\n",
       "    </tr>\n",
       "    <tr>\n",
       "      <th>pub_year</th>\n",
       "      <th></th>\n",
       "      <th></th>\n",
       "    </tr>\n",
       "  </thead>\n",
       "  <tbody>\n",
       "    <tr>\n",
       "      <th>2008-2019</th>\n",
       "      <td>0.202532</td>\n",
       "      <td>0.797468</td>\n",
       "    </tr>\n",
       "    <tr>\n",
       "      <th>2020</th>\n",
       "      <td>0.324074</td>\n",
       "      <td>0.675926</td>\n",
       "    </tr>\n",
       "    <tr>\n",
       "      <th>2021</th>\n",
       "      <td>0.315000</td>\n",
       "      <td>0.685000</td>\n",
       "    </tr>\n",
       "    <tr>\n",
       "      <th>2022</th>\n",
       "      <td>0.460317</td>\n",
       "      <td>0.539683</td>\n",
       "    </tr>\n",
       "  </tbody>\n",
       "</table>\n",
       "</div>"
      ],
      "text/plain": [
       "Tabular or Image data as input?  Image data (includes video data)  \\\n",
       "pub_year                                                            \n",
       "2008-2019                                                0.202532   \n",
       "2020                                                     0.324074   \n",
       "2021                                                     0.315000   \n",
       "2022                                                     0.460317   \n",
       "\n",
       "Tabular or Image data as input?  Tabular (includes EEG, ECG, time-series data)  \n",
       "pub_year                                                                        \n",
       "2008-2019                                                             0.797468  \n",
       "2020                                                                  0.675926  \n",
       "2021                                                                  0.685000  \n",
       "2022                                                                  0.539683  "
      ]
     },
     "execution_count": 32,
     "metadata": {},
     "output_type": "execute_result"
    }
   ],
   "source": [
    "res, res_norm = grp_by_year_and_count(df, 'Tabular or Image data as input?')\n",
    "res_norm"
   ]
  },
  {
   "cell_type": "markdown",
   "id": "004cb200",
   "metadata": {},
   "source": [
    "Clear trend towards image data due to increased computational power and availability of image data."
   ]
  },
  {
   "cell_type": "code",
   "execution_count": null,
   "id": "34aec8e4",
   "metadata": {},
   "outputs": [],
   "source": []
  }
 ],
 "metadata": {
  "kernelspec": {
   "display_name": "Python 3",
   "language": "python",
   "name": "python3"
  },
  "language_info": {
   "codemirror_mode": {
    "name": "ipython",
    "version": 3
   },
   "file_extension": ".py",
   "mimetype": "text/x-python",
   "name": "python",
   "nbconvert_exporter": "python",
   "pygments_lexer": "ipython3",
   "version": "3.7.6"
  }
 },
 "nbformat": 4,
 "nbformat_minor": 5
}
