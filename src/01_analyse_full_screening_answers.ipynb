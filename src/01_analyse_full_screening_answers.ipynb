{
 "cells": [
  {
   "cell_type": "markdown",
   "id": "d047b049",
   "metadata": {},
   "source": [
    "# Analyse full screening answers\n",
    "\n",
    "This notebook has the purpose to\n",
    "- clean and prepare the data coming from the MS forms sheet\n",
    "- visualize and aggregate the research questions\n",
    "- further analyse the dataset"
   ]
  },
  {
   "cell_type": "code",
   "execution_count": 1,
   "id": "64d10132",
   "metadata": {},
   "outputs": [],
   "source": [
    "# imports\n",
    "import pandas as pd\n",
    "import seaborn as sns\n",
    "import matplotlib.pyplot as plt"
   ]
  },
  {
   "cell_type": "code",
   "execution_count": 2,
   "id": "52b829f8",
   "metadata": {},
   "outputs": [],
   "source": [
    "# # for printing issues\n",
    "# pd.set_option('display.max_columns', None)  # or 1000\n",
    "# pd.set_option('display.max_rows', None)  # or 1000\n",
    "# pd.set_option('display.max_colwidth', None)  # or 199"
   ]
  },
  {
   "cell_type": "code",
   "execution_count": 3,
   "id": "f97c735c",
   "metadata": {},
   "outputs": [
    {
     "name": "stdout",
     "output_type": "stream",
     "text": [
      "df shape is  (610, 12)\n"
     ]
    }
   ],
   "source": [
    "# read in dataframe\n",
    "df = pd.read_excel('..\\data\\Full Screening Questions (1-621)_reviewed.xlsx')\n",
    "\n",
    "# strip strings in object columns\n",
    "df_obj = df.select_dtypes(['object'])\n",
    "df[df_obj.columns] = df_obj.apply(lambda x: x.str.strip())\n",
    "\n",
    "# check for multiple answers on the same paper\n",
    "df = df.drop_duplicates(subset=['Number - Author Year'], keep='first')\n",
    "\n",
    "print('df shape is ',df.shape)"
   ]
  },
  {
   "cell_type": "markdown",
   "id": "25368622",
   "metadata": {},
   "source": [
    "## Clean and Prepare"
   ]
  },
  {
   "cell_type": "code",
   "execution_count": 4,
   "id": "d79bc8b1",
   "metadata": {},
   "outputs": [],
   "source": [
    "# remove \\n from strings\n",
    "df.replace(to_replace=[r\"\\\\t|\\\\n|\\\\r\", \"\\t|\\n|\\r\"], value=[\"\",\"\"], regex=True, inplace=True)"
   ]
  },
  {
   "cell_type": "markdown",
   "id": "69869069",
   "metadata": {},
   "source": [
    "## How many papers have to be excluded for which reason?"
   ]
  },
  {
   "cell_type": "code",
   "execution_count": 5,
   "id": "2fec13c1",
   "metadata": {},
   "outputs": [
    {
     "data": {
      "text/plain": [
       "87"
      ]
     },
     "execution_count": 5,
     "metadata": {},
     "output_type": "execute_result"
    }
   ],
   "source": [
    "df[df['Concrete medical supervised Machine Learning usecase?']=='No -> Exclude from review and submit form'].shape[0]"
   ]
  },
  {
   "cell_type": "code",
   "execution_count": 6,
   "id": "442b782e",
   "metadata": {
    "scrolled": true
   },
   "outputs": [
    {
     "data": {
      "text/plain": [
       "64"
      ]
     },
     "execution_count": 6,
     "metadata": {},
     "output_type": "execute_result"
    }
   ],
   "source": [
    "df[df['Which XAI method is used?']=='None -> Exclude from review and submit form;'].shape[0]"
   ]
  },
  {
   "cell_type": "code",
   "execution_count": 7,
   "id": "ea611af2",
   "metadata": {},
   "outputs": [
    {
     "data": {
      "text/plain": [
       "13"
      ]
     },
     "execution_count": 7,
     "metadata": {},
     "output_type": "execute_result"
    }
   ],
   "source": [
    "df[df['Tabular or Image data as input?']=='Text-> Exclude from review and submit form'].shape[0]"
   ]
  },
  {
   "cell_type": "code",
   "execution_count": 8,
   "id": "6bc52e49",
   "metadata": {},
   "outputs": [
    {
     "data": {
      "text/plain": [
       "0"
      ]
     },
     "execution_count": 8,
     "metadata": {},
     "output_type": "execute_result"
    }
   ],
   "source": [
    "df[df['Tabular or Image data as input?']=='Audio-> Exclude from review and submit form'].shape[0]"
   ]
  },
  {
   "cell_type": "code",
   "execution_count": 9,
   "id": "5bd0e906",
   "metadata": {},
   "outputs": [],
   "source": [
    "# drop papers that have been excluded due to at least one of the following reasons\n",
    "# - No concrete supervised medical machine learning use case\n",
    "df = df[df['Concrete medical supervised Machine Learning usecase?']!='No -> Exclude from review and submit form']\n",
    "# - No XAI method provided\n",
    "df = df[df['Which XAI method is used?']!='None -> Exclude from review and submit form;']\n",
    "# - No image or tabular data as input\n",
    "df = df[df['Tabular or Image data as input?']!='Text-> Exclude from review and submit form']\n",
    "df = df[df['Tabular or Image data as input?']!='Audio-> Exclude from review and submit form']"
   ]
  },
  {
   "cell_type": "code",
   "execution_count": 10,
   "id": "3728217b",
   "metadata": {},
   "outputs": [
    {
     "data": {
      "text/plain": [
       "[]"
      ]
     },
     "execution_count": 10,
     "metadata": {},
     "output_type": "execute_result"
    }
   ],
   "source": [
    "# check for missing values\n",
    "authors_list = []\n",
    "for row in df.index:\n",
    "    df_row = df.loc[row, :]\n",
    "    \n",
    "    if pd.isnull(df_row).any():\n",
    "        authors_list.append(df.loc[row, 'Number - Author Year'])\n",
    "\n",
    "authors_list = list(set(authors_list))\n",
    "sorted(authors_list)"
   ]
  },
  {
   "cell_type": "code",
   "execution_count": 11,
   "id": "7548adc0",
   "metadata": {},
   "outputs": [
    {
     "name": "stdout",
     "output_type": "stream",
     "text": [
      "After dropping excluded papers, df shape is  (450, 12)\n"
     ]
    }
   ],
   "source": [
    "print('After dropping excluded papers, df shape is ',df.shape)"
   ]
  },
  {
   "cell_type": "markdown",
   "id": "4f724502",
   "metadata": {},
   "source": [
    "No missing values left - continue with granularisation of columns - \"unroll\" columns."
   ]
  },
  {
   "cell_type": "code",
   "execution_count": 12,
   "id": "c5f54622",
   "metadata": {},
   "outputs": [
    {
     "name": "stdout",
     "output_type": "stream",
     "text": [
      "Top 20 most used XAI methods\n"
     ]
    },
    {
     "data": {
      "text/plain": [
       "SHAP                                                                         119\n",
       "Intrinsic interpretable                                                       94\n",
       "Class Activation Mapping or related (i. e., Grad-CAM)                         92\n",
       "Random Forest Feature Importance                                              46\n",
       "LIME                                                                          40\n",
       "Partial Dependence Plots                                                      14\n",
       "Layer-Wise Relevance Propagation                                               9\n",
       "Permutation Importance                                                         5\n",
       "DeepLift                                                                       3\n",
       "Saliency Maps                                                                  3\n",
       "Attention Mechanism                                                            3\n",
       "GSInquire                                                                      2\n",
       "Post-Hoc Decision Tree                                                         2\n",
       "Saliency Map                                                                   2\n",
       "Attention weights                                                              2\n",
       "attention mechanism                                                            2\n",
       "guided back-propagation                                                        1\n",
       "Logistic Regression                                                            1\n",
       "accumulated local effect (ALE) plots, and H-statistic feature interaction      1\n",
       "ExplAIn                                                                        1\n",
       "dtype: int64"
      ]
     },
     "execution_count": 12,
     "metadata": {},
     "output_type": "execute_result"
    }
   ],
   "source": [
    "\"\"\"\n",
    "# divide column 'Which XAI method is used?' into multiple columns:\n",
    "df[['XAI_method_1', 'XAI_method_2', 'XAI_method_3', 'XAI_method_4', 'XAI_method_5']] = df['Which XAI method is used?'].str.split(\";\", expand = True)\n",
    "\n",
    "# Problem: if \"own method\" is selected, now the description of this method might be in the next column\n",
    "#'XAI_method_5' could be deleted again, because contains no information - only None values\n",
    "\"\"\"\n",
    "\n",
    "def used_methods_value_count(df):\n",
    "    \"\"\"Performs a value count on which method is used? Excludes own developed methods\"\"\"\n",
    "    \n",
    "    # drop all rows with substring \"Own method developed\"\n",
    "    df = df[~df['Which XAI method is used?'].str.contains('Own method developed')]\n",
    "\n",
    "    # Perform value counts on remaining methods\n",
    "    ser = df['Which XAI method is used?'].str.split(\";\", expand=True).stack(dropna=True).value_counts()\n",
    "    \n",
    "    # drop the first line as this is a value counts of None\n",
    "    ser = ser.drop(labels=[''])\n",
    "    \n",
    "    # alter index for better readability\n",
    "    ser.rename(index={'Model is intrinsic interpretable (i.e., decision tree or linear regression)':'Intrinsic interpretable'},\n",
    "              inplace=True)\n",
    "    \n",
    "    return ser\n",
    "\n",
    "ser = used_methods_value_count(df)\n",
    "\n",
    "print('Top 20 most used XAI methods')\n",
    "ser[:20]"
   ]
  },
  {
   "cell_type": "code",
   "execution_count": 13,
   "id": "48e3dbdb",
   "metadata": {},
   "outputs": [
    {
     "data": {
      "text/plain": [
       "490"
      ]
     },
     "execution_count": 13,
     "metadata": {},
     "output_type": "execute_result"
    }
   ],
   "source": [
    "# How many methods in total that are not self-developed?\n",
    "ser.sum()"
   ]
  },
  {
   "cell_type": "code",
   "execution_count": 14,
   "id": "562dc800",
   "metadata": {},
   "outputs": [
    {
     "data": {
      "text/plain": [
       "45"
      ]
     },
     "execution_count": 14,
     "metadata": {},
     "output_type": "execute_result"
    }
   ],
   "source": [
    "# How many self developed methods?\n",
    "ser['Own method developed'] = df['Which XAI method is used?'].str.contains('Own method developed').sum()\n",
    "ser = ser.sort_values(ascending=False)\n",
    "ser['Own method developed']"
   ]
  },
  {
   "cell_type": "code",
   "execution_count": 15,
   "id": "f0a31dd3",
   "metadata": {},
   "outputs": [
    {
     "data": {
      "text/plain": [
       "1.1888888888888889"
      ]
     },
     "execution_count": 15,
     "metadata": {},
     "output_type": "execute_result"
    }
   ],
   "source": [
    "# How many explanations methods per paper on average?\n",
    "ser.sum()/df.shape[0]"
   ]
  },
  {
   "cell_type": "markdown",
   "id": "6dce9f6a",
   "metadata": {},
   "source": [
    "## Which XAI methods have been used the most?"
   ]
  },
  {
   "cell_type": "code",
   "execution_count": 16,
   "id": "58799cb5",
   "metadata": {},
   "outputs": [
    {
     "data": {
      "text/html": [
       "<div>\n",
       "<style scoped>\n",
       "    .dataframe tbody tr th:only-of-type {\n",
       "        vertical-align: middle;\n",
       "    }\n",
       "\n",
       "    .dataframe tbody tr th {\n",
       "        vertical-align: top;\n",
       "    }\n",
       "\n",
       "    .dataframe thead th {\n",
       "        text-align: right;\n",
       "    }\n",
       "</style>\n",
       "<table border=\"1\" class=\"dataframe\">\n",
       "  <thead>\n",
       "    <tr style=\"text-align: right;\">\n",
       "      <th></th>\n",
       "      <th>tabular</th>\n",
       "      <th>image</th>\n",
       "    </tr>\n",
       "  </thead>\n",
       "  <tbody>\n",
       "    <tr>\n",
       "      <th>SHAP</th>\n",
       "      <td>108.0</td>\n",
       "      <td>11.0</td>\n",
       "    </tr>\n",
       "    <tr>\n",
       "      <th>Intrinsic interpretable</th>\n",
       "      <td>90.0</td>\n",
       "      <td>4.0</td>\n",
       "    </tr>\n",
       "    <tr>\n",
       "      <th>Random Forest Feature Importance</th>\n",
       "      <td>41.0</td>\n",
       "      <td>5.0</td>\n",
       "    </tr>\n",
       "    <tr>\n",
       "      <th>LIME</th>\n",
       "      <td>27.0</td>\n",
       "      <td>13.0</td>\n",
       "    </tr>\n",
       "    <tr>\n",
       "      <th>Partial Dependence Plots</th>\n",
       "      <td>14.0</td>\n",
       "      <td>0.0</td>\n",
       "    </tr>\n",
       "    <tr>\n",
       "      <th>Class Activation Mapping or related (i. e., Grad-CAM)</th>\n",
       "      <td>8.0</td>\n",
       "      <td>84.0</td>\n",
       "    </tr>\n",
       "    <tr>\n",
       "      <th>Permutation Importance</th>\n",
       "      <td>5.0</td>\n",
       "      <td>0.0</td>\n",
       "    </tr>\n",
       "    <tr>\n",
       "      <th>Layer-Wise Relevance Propagation</th>\n",
       "      <td>3.0</td>\n",
       "      <td>6.0</td>\n",
       "    </tr>\n",
       "    <tr>\n",
       "      <th>Saliency Maps</th>\n",
       "      <td>0.0</td>\n",
       "      <td>3.0</td>\n",
       "    </tr>\n",
       "  </tbody>\n",
       "</table>\n",
       "</div>"
      ],
      "text/plain": [
       "                                                    tabular  image\n",
       "SHAP                                                  108.0   11.0\n",
       "Intrinsic interpretable                                90.0    4.0\n",
       "Random Forest Feature Importance                       41.0    5.0\n",
       "LIME                                                   27.0   13.0\n",
       "Partial Dependence Plots                               14.0    0.0\n",
       "Class Activation Mapping or related (i. e., Gra...      8.0   84.0\n",
       "Permutation Importance                                  5.0    0.0\n",
       "Layer-Wise Relevance Propagation                        3.0    6.0\n",
       "Saliency Maps                                           0.0    3.0"
      ]
     },
     "execution_count": 16,
     "metadata": {},
     "output_type": "execute_result"
    }
   ],
   "source": [
    "# Explanation methods by data input\n",
    "df_tab = df[df['Tabular or Image data as input?']=='Tabular (includes EEG, ECG, time-series data)']\n",
    "df_img = df[df['Tabular or Image data as input?']=='Image data (includes video data)']\n",
    "\n",
    "ser_tab = used_methods_value_count(df_tab).rename('tabular')\n",
    "ser_img = used_methods_value_count(df_img).rename('image')\n",
    "\n",
    "df_tab_img = pd.concat([ser_tab, ser_img], \n",
    "                       names=['tabular', 'image'], \n",
    "                       axis='columns')\n",
    "\n",
    "# replace NaNs\n",
    "df_tab_img=df_tab_img.fillna(0)\n",
    "\n",
    "# drop methods that have been used less than 3 times\n",
    "df_tab_img = df_tab_img[(df_tab_img.tabular>2) | (df_tab_img.image>2)]\n",
    "\n",
    "df_tab_img"
   ]
  },
  {
   "attachments": {
    "image.png": {
     "image/png": "[encoded data removed]"
    }
   },
   "cell_type": "markdown",
   "id": "25fc3c2e",
   "metadata": {},
   "source": [
    "![image.png](attachment:image.png)"
   ]
  },
  {
   "cell_type": "markdown",
   "id": "1b56ee5b",
   "metadata": {},
   "source": [
    "## Which data input type is more common?"
   ]
  },
  {
   "cell_type": "code",
   "execution_count": 17,
   "id": "004a4d85",
   "metadata": {},
   "outputs": [
    {
     "data": {
      "text/plain": [
       "Tabular (includes EEG, ECG, time-series data)    307\n",
       "Image data (includes video data)                 143\n",
       "Name: Tabular or Image data as input?, dtype: int64"
      ]
     },
     "execution_count": 17,
     "metadata": {},
     "output_type": "execute_result"
    }
   ],
   "source": [
    "df['Tabular or Image data as input?'].value_counts()"
   ]
  }
 ],
 "metadata": {
  "kernelspec": {
   "display_name": "Python 3",
   "language": "python",
   "name": "python3"
  },
  "language_info": {
   "codemirror_mode": {
    "name": "ipython",
    "version": 3
   },
   "file_extension": ".py",
   "mimetype": "text/x-python",
   "name": "python",
   "nbconvert_exporter": "python",
   "pygments_lexer": "ipython3",
   "version": "3.7.6"
  }
 },
 "nbformat": 4,
 "nbformat_minor": 5
}
